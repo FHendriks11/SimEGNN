{
 "cells": [
  {
   "cell_type": "markdown",
   "metadata": {},
   "source": [
    "# Plot graphs\n",
    "Plot some graphs (pre-deformation case, affine case, final deformation) for illustrative purposes."
   ]
  },
  {
   "cell_type": "code",
   "execution_count": null,
   "metadata": {},
   "outputs": [],
   "source": [
    "import pickle\n",
    "import matplotlib.pyplot as plt\n",
    "import numpy as np\n",
    "import torch"
   ]
  },
  {
   "cell_type": "code",
   "execution_count": null,
   "metadata": {},
   "outputs": [],
   "source": [
    "with open(\"data\\coarseMesh\\graphs_coarseMesh_diameter_0.9_alts7.pkl\", 'rb') as f:\n",
    "# with open(r\"data\\coarseMesh_noBifurcation_5\\graphs_coarseMesh_noBifurcation_diameter_0.9_5_noBulkNodes_2.pkl\", 'rb') as f:\n",
    "    data_list0 = pickle.load(f)\n",
    "\n",
    "print(data_list0[0])\n",
    "print(len(data_list0))"
   ]
  },
  {
   "cell_type": "code",
   "execution_count": null,
   "metadata": {},
   "outputs": [],
   "source": [
    "F = np.concatenate([graph.F for graph in data_list0], axis=0)\n",
    "F.shape"
   ]
  },
  {
   "cell_type": "code",
   "execution_count": null,
   "metadata": {},
   "outputs": [],
   "source": [
    "# Find an F that has some biaxial compression (10-20%) and some shear (also 10-20%)\n",
    "inds = np.where((F[:, 0, 0] < 0.9)\n",
    "                *(F[:, 0, 0] > 0.8)\n",
    "                *(F[:, 1, 1] < 0.9)\n",
    "                *(F[:, 1, 1] > 0.8)\n",
    "                *(F[:, 0, 1] > 0.1)\n",
    "                *(F[:, 0, 1] < 0.2))[0]\n",
    "print(inds)\n",
    "ind = inds[0]\n",
    "print(F[ind])\n",
    "\n",
    "print(f'{np.abs(F[ind][0,0]-1)*100:.2f}% {\"compression\" if F[ind][0,0]-1 < 0 else \"tension\"} in x-direction')\n",
    "print(f'{np.abs(F[ind][1,1]-1)*100:.2f}% {\"compression\" if F[ind][0,0]-1 < 0 else \"tension\"} in y-direction')\n",
    "print(f'{np.abs(F[ind][0,1])*100:.2f}% shear')"
   ]
  },
  {
   "cell_type": "code",
   "execution_count": null,
   "metadata": {},
   "outputs": [],
   "source": [
    "graph = data_list0[inds[0]]\n",
    "\n",
    "pos1 = graph.pos\n",
    "pos2 = torch.matmul(graph.F[0], graph.pos.T).T\n",
    "pos3 = graph.y[..., 0]"
   ]
  },
  {
   "cell_type": "code",
   "execution_count": null,
   "metadata": {},
   "outputs": [],
   "source": [
    "plot_affine = False\n",
    "plot_reference = False\n",
    "plot_final = True"
   ]
  },
  {
   "cell_type": "code",
   "execution_count": null,
   "metadata": {},
   "outputs": [],
   "source": [
    "%matplotlib qt\n",
    "\n",
    "fig, ax = plt.subplots()\n",
    "fig.patch.set_facecolor(\"None\")\n",
    "\n",
    "x, y = np.transpose(pos1[graph.edge_index], axes=[2,0,1])\n",
    "# filter out wraparound edges\n",
    "bools = ((np.abs(np.diff(x, axis=0)) < 0.5)\n",
    "            & (np.abs(np.diff(y, axis=0)) < 0.5)\n",
    "        ).flatten()\n",
    "\n",
    "if plot_reference:\n",
    "    # plot original positions\n",
    "    ax.scatter(*pos1.T, label='original position', s=1, c='tab:red')\n",
    "    edges0 = ax.plot(x[:, bools], y[:, bools], alpha=0.3, c='tab:red')\n",
    "\n",
    "if plot_affine:\n",
    "    # plot affine positions\n",
    "    ax.scatter(*pos2.T, label='new position', s=1, c='tab:blue')\n",
    "    x, y = np.transpose(pos2[graph.edge_index], axes=[2,0,1])\n",
    "    edges0 = ax.plot(x[:, bools], y[:, bools], alpha=0.3, c='tab:blue')\n",
    "\n",
    "if plot_final:\n",
    "    # plot new positions\n",
    "    ax.scatter(*pos3.T, label='new position', s=1, c='tab:green')\n",
    "    x, y = np.transpose(pos3[graph.edge_index], axes=[2,0,1])\n",
    "    edges0 = ax.plot(x[:, bools], y[:, bools], alpha=0.3, c='tab:green')\n",
    "\n",
    "ax.set_xlim([-2.0, 2.0])\n",
    "ax.set_ylim([-2.0, 2.0])\n",
    "\n",
    "# make plots pretty\n",
    "ax.set_aspect('equal')\n",
    "# plt.grid()\n",
    "ax.axis('off')\n",
    "\n",
    "ax.margins(0)\n",
    "\n",
    "plt.tight_layout()\n",
    "\n",
    "path = f'results/graph{\"_reference\"*plot_reference}{\"_affine\"*plot_affine}{\"_final\"*plot_final}_F=[{F[ind][0]},{F[ind][1]}].svg'\n",
    "plt.gcf().savefig(path)"
   ]
  },
  {
   "cell_type": "markdown",
   "metadata": {},
   "source": [
    "# Plot graph without bulk nodes"
   ]
  },
  {
   "cell_type": "code",
   "execution_count": 1,
   "metadata": {},
   "outputs": [],
   "source": [
    "import pickle\n",
    "import matplotlib.pyplot as plt\n",
    "import numpy as np\n",
    "import torch"
   ]
  },
  {
   "cell_type": "code",
   "execution_count": 3,
   "metadata": {},
   "outputs": [
    {
     "name": "stdout",
     "output_type": "stream",
     "text": [
      "Data(x=[128, 0], edge_index=[2, 960], edge_attr=[960, 1], y=[128, 2], pos=[128, 2], r=[960, 2], d=[960, 1], mean_pos=[1, 2], W=[1], P=[1, 2, 2], D=[1, 2, 2, 2, 2], F=[1, 2, 2], traj=[1])\n",
      "8451\n"
     ]
    }
   ],
   "source": [
    "with open(r\"data\\coarseMesh_noBifurcation_5\\graphs_coarseMesh_noBifurcation_diameter_0.9_5_noBulkNodes_2.pkl\", 'rb') as f:\n",
    "    data_list0 = pickle.load(f)\n",
    "\n",
    "print(data_list0[0])\n",
    "print(len(data_list0))\n",
    "graph = data_list0[0]"
   ]
  },
  {
   "cell_type": "code",
   "execution_count": 36,
   "metadata": {},
   "outputs": [],
   "source": [
    "%matplotlib qt\n",
    "\n",
    "# plot all nodes in original location\n",
    "# plt.scatter(*(n_data['pos']), c='black', s=1)  #, s=50, alpha=0.5)\n",
    "\n",
    "# plot nodes on hole bound\n",
    "plt.scatter(*graph.pos.T, s=10)  #, marker='x', s=50, c=quad)\n",
    "\n",
    "# plot edges\n",
    "pos1 = graph.pos[graph.edge_index[0][:480]]\n",
    "pos2 = pos1 + graph.r[:480]\n",
    "x = np.stack((pos1[:, 0], pos2[:, 0]))\n",
    "y = np.stack((pos1[:, 1], pos2[:, 1]))\n",
    "plt.plot(x, y, c='red', alpha=0.3, zorder=-1)\n",
    "\n",
    "# plot boundary edges\n",
    "b_edge_index = graph.edge_attr[:, 0][:480] == -1\n",
    "pos1 = graph.pos[graph.edge_index[:, :480][0, b_edge_index]]\n",
    "pos2 = pos1 + graph.r[:480][b_edge_index]\n",
    "x = np.stack((pos1[:, 0], pos2[:, 0]))\n",
    "y = np.stack((pos1[:, 1], pos2[:, 1]))\n",
    "plt.plot(x, y, c='green', zorder=-1)\n",
    "\n",
    "# make plot pretty\n",
    "plt.gca().set_aspect('equal')\n",
    "plt.xlabel('x')\n",
    "plt.ylabel('y')\n",
    "plt.grid()"
   ]
  },
  {
   "cell_type": "markdown",
   "metadata": {},
   "source": [
    "# Plot geometry"
   ]
  },
  {
   "cell_type": "code",
   "execution_count": null,
   "metadata": {},
   "outputs": [],
   "source": [
    "import matplotlib.pyplot as plt\n",
    "import numpy as np"
   ]
  },
  {
   "cell_type": "code",
   "execution_count": null,
   "metadata": {},
   "outputs": [],
   "source": [
    "# 10×10 unit cell grid\n",
    "%matplotlib qt\n",
    "fig = plt.figure()\n",
    "\n",
    "corners = np.array([[0, 0.0], [0.0, 1], [1., 1.], [1, 0]])\n",
    "mid_point = np.array([0.5, 0.5])\n",
    "r = 0.9/2\n",
    "\n",
    "for i in range(10):\n",
    "    for j in range(10):\n",
    "        shift = np.array([i, j])\n",
    "        if 3 <= i <= 4 and 3<=j <= 4:\n",
    "            plt.fill(*(corners + shift).T, c='tab:blue')\n",
    "        else:\n",
    "            plt.fill(*(corners + shift).T, c='tab:orange')\n",
    "\n",
    "        circle1 = plt.Circle((mid_point+shift), r, color='white')\n",
    "\n",
    "\n",
    "        plt.gca().add_artist(circle1)\n",
    "\n",
    "plt.gca().set_aspect('equal')"
   ]
  },
  {
   "cell_type": "code",
   "execution_count": null,
   "metadata": {},
   "outputs": [],
   "source": [
    "# 2×2 unit cell grid\n",
    "%matplotlib qt\n",
    "fig = plt.figure()\n",
    "\n",
    "corners = np.array([[0, 0.0], [0.0, 1], [1., 1.], [1, 0]])\n",
    "mid_point = np.array([0.5, 0.5])\n",
    "r = 0.85/2\n",
    "\n",
    "for i in range(2):\n",
    "    for j in range(2):\n",
    "        shift = np.array([i, j])\n",
    "        plt.fill(*(corners + shift).T, c='tab:blue')\n",
    "\n",
    "        circle1 = plt.Circle((mid_point+shift), r, color='white')\n",
    "\n",
    "\n",
    "        plt.gca().add_artist(circle1)\n",
    "\n",
    "ax = plt.gca()\n",
    "# Turn off the axes\n",
    "ax.axis('off')\n",
    "\n",
    "# Make the background transparent\n",
    "ax.patch.set_alpha(0)\n",
    "plt.gca().set_aspect('equal')\n",
    "plt.savefig('geometry.svg')"
   ]
  }
 ],
 "metadata": {
  "kernelspec": {
   "display_name": "env_ML2",
   "language": "python",
   "name": "python3"
  },
  "language_info": {
   "codemirror_mode": {
    "name": "ipython",
    "version": 3
   },
   "file_extension": ".py",
   "mimetype": "text/x-python",
   "name": "python",
   "nbconvert_exporter": "python",
   "pygments_lexer": "ipython3",
   "version": "3.10.6"
  },
  "orig_nbformat": 4
 },
 "nbformat": 4,
 "nbformat_minor": 2
}
