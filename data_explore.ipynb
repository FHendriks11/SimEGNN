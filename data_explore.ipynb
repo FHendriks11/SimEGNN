{
 "cells": [
  {
   "attachments": {},
   "cell_type": "markdown",
   "metadata": {},
   "source": [
    "# Import"
   ]
  },
  {
   "cell_type": "code",
   "execution_count": null,
   "metadata": {},
   "outputs": [],
   "source": [
    "# %% import stuff\n",
    "from re import S\n",
    "import scipy.io\n",
    "import matplotlib.pyplot as plt\n",
    "import numpy as np\n",
    "import os\n",
    "import pandas as pd\n",
    "import pickle\n",
    "from scipy.interpolate import griddata\n"
   ]
  },
  {
   "cell_type": "code",
   "execution_count": null,
   "metadata": {},
   "outputs": [],
   "source": [
    "import matplotlib as mpl\n",
    "mpl.rcParams['axes.grid'] = False"
   ]
  },
  {
   "attachments": {},
   "cell_type": "markdown",
   "metadata": {},
   "source": [
    "# Make illustration for sampling strategy"
   ]
  },
  {
   "attachments": {},
   "cell_type": "markdown",
   "metadata": {},
   "source": [
    "## 2D"
   ]
  },
  {
   "cell_type": "code",
   "execution_count": null,
   "metadata": {},
   "outputs": [],
   "source": [
    "b_arr = np.arange(-0.25, 0.5001, 0.05)\n",
    "a_arr = np.full(len(b_arr), 0.5)\n",
    "b_arr2 = np.full(len(b_arr), -0.25)\n",
    "\n",
    "a_arr, b_arr = np.append(a_arr, b_arr), np.append(b_arr, b_arr2)\n",
    "print('a_arr, b_arr:')\n",
    "print(a_arr, b_arr)\n",
    "\n",
    "%matplotlib qt\n",
    "x = np.vstack((a_arr, np.zeros(len(b_arr))))\n",
    "y = np.vstack((b_arr, np.zeros(len(b_arr))))\n",
    "print('x:')\n",
    "print(x)\n",
    "plt.plot(x, y)\n",
    "plt.scatter(a_arr,b_arr)\n",
    "plt.gca().set_aspect('equal')\n",
    "plt.xlabel('a')\n",
    "plt.ylabel('b')\n",
    "plt.grid()\n",
    "# plt.savefig('ab_plot.png')\n"
   ]
  },
  {
   "attachments": {},
   "cell_type": "markdown",
   "metadata": {},
   "source": [
    "## 3D"
   ]
  },
  {
   "cell_type": "code",
   "execution_count": null,
   "metadata": {},
   "outputs": [],
   "source": [
    "ab_var_arr = np.arange(-0.25, 0.5001, 0.05).reshape(-1, 1)\n",
    "c_var_arr = np.arange(0, 0.5001, 0.05)\n",
    "n_ab, n_c = len(ab_var_arr), len(c_var_arr)\n",
    "\n",
    "# plane 1: a constant\n",
    "arrs_a_const = np.empty((3, n_ab, n_c))\n",
    "arrs_a_const[0] = 0.5\n",
    "arrs_a_const[1] = np.tile(ab_var_arr, reps=(1,n_c))\n",
    "arrs_a_const[2] = np.tile(c_var_arr, reps=(n_ab, 1))\n",
    "\n",
    "# plane 2: b constant\n",
    "arrs_b_const = np.empty((3, n_ab, n_c))\n",
    "arrs_b_const[0] = np.tile(ab_var_arr, reps=(1,n_c))\n",
    "arrs_b_const[1] = -0.25\n",
    "arrs_b_const[2] = np.tile(c_var_arr, reps=(n_ab, 1))\n",
    "\n",
    "# plane 3: c constant\n",
    "arrs_c_const = np.empty((3, n_ab, n_ab))\n",
    "arrs_c_const[0] = np.tile(ab_var_arr, reps=(1,n_ab))\n",
    "arrs_c_const[1] = np.tile(ab_var_arr, reps=(1,n_ab)).T\n",
    "arrs_c_const[2] = 0.5\n",
    "\n",
    "abc_arr = np.concatenate((arrs_a_const.reshape(3, -1),\n",
    "                    arrs_b_const.reshape(3, -1),\n",
    "                    arrs_c_const.reshape(3, -1)), -1)\n",
    "abc_arr = abc_arr[:, abc_arr[0] > abc_arr[1]]\n",
    "print(abc_arr.shape)\n"
   ]
  },
  {
   "cell_type": "code",
   "execution_count": null,
   "metadata": {},
   "outputs": [],
   "source": [
    "%matplotlib qt\n",
    "fig = plt.figure()\n",
    "ax = fig.add_subplot(projection='3d')\n",
    "\n",
    "steps = np.linspace(0, 1, 101)\n",
    "for xx, yy, zz in abc_arr.T:\n",
    "    ax.plot(xx*steps, yy*steps, zz*steps, c='tab:orange')\n",
    "ax.scatter(*abc_arr)\n",
    "ax.scatter([0], [0], [0], c='black')\n",
    "\n",
    "# ax.set_aspect('equal')\n",
    "ax.set_xlabel('$G_{xx}$')\n",
    "ax.set_ylabel('$G_{yy}$')\n",
    "ax.set_zlabel('$G_{xy}$')\n",
    "ax.grid()\n",
    "plt.show()\n",
    "# plt.savefig('abc_plot.png')"
   ]
  },
  {
   "attachments": {},
   "cell_type": "markdown",
   "metadata": {},
   "source": [
    "# Plots"
   ]
  },
  {
   "cell_type": "code",
   "execution_count": null,
   "metadata": {},
   "outputs": [],
   "source": [
    "diameter = 0.9"
   ]
  },
  {
   "cell_type": "code",
   "execution_count": null,
   "metadata": {},
   "outputs": [],
   "source": [
    "# %% open dataframe from file\n",
    "with open(f'data\\\\coarseMesh\\\\dataframe_coarseMesh_diameter_{diameter}.pkl', 'rb') as f:\n",
    "    df = pickle.load(f)\n"
   ]
  },
  {
   "cell_type": "code",
   "execution_count": null,
   "metadata": {},
   "outputs": [],
   "source": [
    "\n",
    "# %% extract a, b, c\n",
    "df['a'] = [elem[0][0]-1 for elem in df['F']]\n",
    "df['b'] = [elem[1][1]-1 for elem in df['F']]\n",
    "df['c'] = [elem[1][0] for elem in df['F']]\n",
    "df\n"
   ]
  },
  {
   "cell_type": "code",
   "execution_count": null,
   "metadata": {},
   "outputs": [],
   "source": [
    "plt.hist(df['c'], bins=50);"
   ]
  },
  {
   "cell_type": "code",
   "execution_count": null,
   "metadata": {},
   "outputs": [],
   "source": [
    "# find all relevant data\n",
    "\n",
    "# bools = np.isclose(df['c'], 0.2, atol=0.02, rtol=0)\n",
    "bools = df['c'] == 0.0\n",
    "\n",
    "a_arr, b_arr, D_arr, W_arr = df[bools][['a', 'b', 'D', 'W']].values.T\n",
    "bf_points = df[df['bifurc']*(bools)][['a', 'b']]\n",
    "\n",
    "a_lims = b_lims = [-0.25, 0.5]\n",
    "print(a_lims, b_lims)\n",
    "\n",
    "symm_type_arr = df['symm_type'][df['c'] == 0.0]"
   ]
  },
  {
   "cell_type": "code",
   "execution_count": null,
   "metadata": {},
   "outputs": [],
   "source": [
    "# %% Find all bifurcation points for c=[some specific value] and plot them\n",
    "%matplotlib qt\n",
    "\n",
    "plt.figure(figsize=(8,8))\n",
    "plt.scatter(np.append(b_arr, a_arr), np.append(a_arr, b_arr), s=1)\n",
    "plt.scatter(bf_points['a'], bf_points['b'], s=2, c='tab:orange')\n",
    "plt.scatter(bf_points['b'], bf_points['a'], s=2, c='tab:orange')\n",
    "plt.gca().set_aspect('equal')\n",
    "plt.xlabel('a')\n",
    "plt.ylabel('b')\n",
    "plt.xlim([-0.25, 0.5])\n",
    "plt.ylim([-0.25, 0.5])\n",
    "plt.grid()\n",
    "# plt.savefig(f'bifurcation_diameter_{diameter}.png')\n",
    "\n"
   ]
  },
  {
   "attachments": {},
   "cell_type": "markdown",
   "metadata": {},
   "source": [
    "## Plot strain energy density"
   ]
  },
  {
   "cell_type": "code",
   "execution_count": null,
   "metadata": {},
   "outputs": [],
   "source": [
    "W_min, W_max = np.abs(np.min(W_arr)), np.abs(np.max(W_arr))\n",
    "W_max = max(W_min, W_max)\n",
    "W_min = - W_max"
   ]
  },
  {
   "cell_type": "code",
   "execution_count": null,
   "metadata": {},
   "outputs": [],
   "source": [
    "# %% Plot energy\n",
    "\n",
    "b_sample, a_sample = np.ix_(np.linspace(*a_lims, 100),\n",
    "                            np.linspace(*b_lims, 50))\n",
    "grid_z0 = griddata((a_arr, b_arr), W_arr, (a_sample, b_sample))\n",
    "\n",
    "%matplotlib qt\n",
    "plt.figure(figsize=(8,8))\n",
    "cf = plt.contourf(a_sample.flatten(), b_sample.flatten(), grid_z0, 50)\n",
    "    # cmap='coolwarm', vmin=W_min, vmax=W_max)\n",
    "\n",
    "plt.contour(a_sample.flatten(), b_sample.flatten(), grid_z0, 100,\n",
    "    c='black')\n",
    "plt.scatter(a_arr, b_arr, s=1)\n",
    "plt.scatter(bf_points['a'], bf_points['b'], s=2, c='tab:orange')\n",
    "plt.gca().set_aspect('equal')\n",
    "plt.xlabel('$G_{xx}$')\n",
    "plt.ylabel('$G_{yy}$')\n",
    "plt.grid()\n",
    "cbar = plt.colorbar(cf)\n",
    "cbar.ax.set_ylabel('$\\mathfrak{W}$')\n",
    "# cbar.set_ticks(cbar.get_ticks())\n",
    "# cbar.set_ticklabels(10**cbar.get_ticks())\n"
   ]
  },
  {
   "attachments": {},
   "cell_type": "markdown",
   "metadata": {},
   "source": [
    "## Plot one component of D"
   ]
  },
  {
   "cell_type": "code",
   "execution_count": null,
   "metadata": {},
   "outputs": [],
   "source": [
    "# %% import stuff\n",
    "from re import S\n",
    "import scipy.io\n",
    "import matplotlib.pyplot as plt\n",
    "import numpy as np\n",
    "import os\n",
    "import pandas as pd\n",
    "import pickle\n",
    "from scipy.interpolate import griddata"
   ]
  },
  {
   "cell_type": "code",
   "execution_count": null,
   "metadata": {},
   "outputs": [],
   "source": [
    "diameter = 0.9"
   ]
  },
  {
   "cell_type": "code",
   "execution_count": null,
   "metadata": {},
   "outputs": [],
   "source": [
    "# %% open dataframe from file\n",
    "with open(f'data\\\\coarseMesh\\\\dataframe_coarseMesh_diameter_{diameter}.pkl', 'rb') as f:\n",
    "    df = pickle.load(f)\n"
   ]
  },
  {
   "cell_type": "code",
   "execution_count": null,
   "metadata": {},
   "outputs": [],
   "source": [
    "\n",
    "# %% extract a, b, c\n",
    "df['a'] = [elem[0][0]-1 for elem in df['F']]\n",
    "df['b'] = [elem[1][1]-1 for elem in df['F']]\n",
    "df['c'] = [elem[1][0] for elem in df['F']]\n",
    "df\n"
   ]
  },
  {
   "cell_type": "code",
   "execution_count": null,
   "metadata": {},
   "outputs": [],
   "source": [
    "# find all relevant data\n",
    "\n",
    "# bools = np.isclose(df['c'], 0.2, atol=0.02, rtol=0)\n",
    "bools = df['c'] == 0.0\n",
    "\n",
    "a_arr, b_arr, D_arr, W_arr = df[bools][['a', 'b', 'D', 'W']].values.T\n",
    "bf_points = df[df['bifurc']*(bools)][['a', 'b']]\n",
    "\n",
    "a_lims = b_lims = [-0.25, 0.5]\n",
    "print(a_lims, b_lims)\n",
    "\n",
    "symm_type_arr = df['symm_type'][df['c'] == 0.0]"
   ]
  },
  {
   "cell_type": "code",
   "execution_count": null,
   "metadata": {},
   "outputs": [],
   "source": [
    "import matplotlib.colors"
   ]
  },
  {
   "cell_type": "code",
   "execution_count": null,
   "metadata": {},
   "outputs": [],
   "source": [
    "colors = [matplotlib.colormaps['tab10'](sytype) for sytype in symm_type_arr]"
   ]
  },
  {
   "cell_type": "code",
   "execution_count": null,
   "metadata": {},
   "outputs": [],
   "source": [
    "%matplotlib qt\n",
    "D1 = [elem[1,1,1,1] for elem in D_arr]\n",
    "D2 = [elem[0,0,0,0] for elem in D_arr]\n",
    "D_min, D_max = np.abs(np.min(D1)), np.abs(np.max(D1))\n",
    "D_max = max(D_min, D_max)\n",
    "D_min = - D_max\n",
    "\n",
    "D1 = np.concatenate((D1, D2))\n",
    "a_arr2, b_arr2 = np.concatenate((a_arr, b_arr)), np.concatenate((b_arr, a_arr))\n",
    "colors2 = np.concatenate((colors, colors))\n",
    "\n",
    "# %% Plot stiffness\n",
    "b_sample, a_sample = np.ix_(np.linspace(*a_lims, 50),\n",
    "                            np.linspace(*b_lims, 50))\n",
    "grid_z0 = griddata((a_arr2, b_arr2), D1, (a_sample, b_sample), method='cubic')\n",
    "\n",
    "plt.figure(figsize=(8,8))\n",
    "cf = plt.contourf(a_sample.flatten(), b_sample.flatten(), grid_z0, 50,\n",
    "                    vmin=D_min, vmax=D_max, cmap='coolwarm')\n",
    "# cf = plt.contour(a_sample[:, 0], b_sample[0], grid_z0, 100)  #, c='black')\n",
    "# plt.scatter(a_arr2, b_arr2, s=1,\n",
    "#             # c='black',\n",
    "#             c=colors2\n",
    "#             )\n",
    "# plt.scatter(bf_points['a'], bf_points['b'], s=2, c='tab:orange')\n",
    "# plt.scatter(bf_points['b'], bf_points['a'], s=2, c='tab:orange')\n",
    "plt.gca().set_aspect('equal')\n",
    "plt.xlabel('$G_{xx}$')\n",
    "plt.ylabel('$G_{yy}$')\n",
    "cbar = plt.colorbar(cf)\n",
    "cbar.ax.set_ylabel('$D_{yyyy}$')\n",
    "\n",
    "# %%\n"
   ]
  },
  {
   "attachments": {},
   "cell_type": "markdown",
   "metadata": {},
   "source": [
    "## Plot all D components"
   ]
  },
  {
   "cell_type": "code",
   "execution_count": null,
   "metadata": {},
   "outputs": [],
   "source": [
    "# %% Plot stiffness\n",
    "b_sample, a_sample = np.ix_(np.linspace(*a_lims, 50),\n",
    "                            np.linspace(*b_lims, 50))\n",
    "\n",
    "D_arr = np.stack(D_arr)\n",
    "D_arr = D_arr.reshape(-1, 4, 4)"
   ]
  },
  {
   "cell_type": "code",
   "execution_count": null,
   "metadata": {},
   "outputs": [],
   "source": [
    "D_min, D_max = np.abs(np.min(D_arr)), np.abs(np.max(D_arr))\n",
    "D_max = max(D_min, D_max)\n",
    "D_min = - D_max"
   ]
  },
  {
   "cell_type": "code",
   "execution_count": null,
   "metadata": {},
   "outputs": [],
   "source": [
    "%matplotlib qt\n",
    "\n",
    "fig, axes = plt.subplots(4, 4, figsize=(13,10))\n",
    "titles = ['xx', 'xy', 'yx', 'yy']\n",
    "for i in range(4):\n",
    "    for j in range(4):\n",
    "        ax = axes[i, j]\n",
    "        if i > j:\n",
    "            ax.axis('off')\n",
    "            continue\n",
    "        ax = axes[i,j]\n",
    "        comp = '$D_{' + titles[i] + titles[j] + '}$'\n",
    "        ax.grid('both')\n",
    "        ax.set_title(comp)\n",
    "        ax.set_xlabel('$G_{xx}$')\n",
    "        ax.set_ylabel('$G_{yy}$')\n",
    "\n",
    "        grid_z0 = griddata((a_arr, b_arr), D_arr[:, i, j], (a_sample, b_sample), method='cubic')\n",
    "\n",
    "        cf = ax.contourf(a_sample.flatten(), b_sample.flatten(), grid_z0,\n",
    "            50, vmin=D_min, vmax=D_max, cmap='coolwarm')\n",
    "        ax.set_aspect('equal')\n",
    "\n",
    "        ax.scatter(a_arr, b_arr, s=1, c='black')\n",
    "        ax.scatter(bf_points['a'], bf_points['b'], s=2, c='tab:orange')\n",
    "\n",
    "        if 'symm_type' in df.columns:\n",
    "            ax.scatter(a_arr, b_arr, s=1, c=symm_type_arr)\n",
    "        # plt.scatter(bf_points['b'], bf_points['a'], s=2, c='tab:orange')\n",
    "\n",
    "fig.tight_layout()\n",
    "fig.subplots_adjust(right=0.8, wspace=0.4, hspace=0.5)\n",
    "cbar_ax = fig.add_axes([0.85, 0.15, 0.05, 0.7])\n",
    "\n",
    "cbar = plt.colorbar(cf, cax = cbar_ax)\n",
    "# cbar.ax.set_ylabel('$D_{xxxx}$')\n",
    "\n",
    "# %%\n"
   ]
  },
  {
   "attachments": {},
   "cell_type": "markdown",
   "metadata": {},
   "source": [
    "# Import mesh, plot"
   ]
  },
  {
   "cell_type": "code",
   "execution_count": null,
   "metadata": {},
   "outputs": [],
   "source": [
    "file = ... # path to .mat file with mesh info\n",
    "\n",
    "mat = scipy.io.loadmat(file)\n",
    "\n",
    "for key in mat:\n",
    "    print(key)\n",
    "    if isinstance(mat[key], np.ndarray):\n",
    "        print(mat[key].shape)\n",
    "    else:\n",
    "        print(mat[key])\n",
    "\n"
   ]
  },
  {
   "cell_type": "code",
   "execution_count": null,
   "metadata": {},
   "outputs": [],
   "source": [
    "\n",
    "# quadratic triangles, so the elements are made up of 6 nodes, with nodes 0, 1 and 2 the corner nodes.\n",
    "# minus 1 because matlab indexing starts at 1 but python's at 0\n",
    "edges = mat['t'][([[0, 3, 1, 4, 2, 5], [3, 1, 4, 2, 5, 0]],)].reshape(2, -1) - 1\n",
    "x, y = mat['p'][:, edges]\n"
   ]
  },
  {
   "cell_type": "code",
   "execution_count": null,
   "metadata": {},
   "outputs": [],
   "source": [
    "%matplotlib qt\n",
    "plt.scatter(*mat['p'], s=1)\n",
    "plt.plot(x, y)\n",
    "plt.gca().set_aspect('equal')\n",
    "plt.grid()"
   ]
  },
  {
   "attachments": {},
   "cell_type": "markdown",
   "metadata": {},
   "source": [
    "# Reconstruct deformed mesh"
   ]
  },
  {
   "cell_type": "code",
   "execution_count": null,
   "metadata": {},
   "outputs": [],
   "source": [
    "U = df.iloc[19]['U'].reshape(-1, 2).T"
   ]
  },
  {
   "cell_type": "code",
   "execution_count": null,
   "metadata": {},
   "outputs": [],
   "source": [
    "plt.scatter(*(mat['p'] + U), s=1)\n",
    "plt.gca().set_aspect('equal')"
   ]
  },
  {
   "attachments": {},
   "cell_type": "markdown",
   "metadata": {},
   "source": [
    "# Plot deformations"
   ]
  },
  {
   "cell_type": "code",
   "execution_count": null,
   "metadata": {},
   "outputs": [],
   "source": [
    "import pickle\n",
    "import matplotlib.pyplot as plt\n",
    "import numpy as np"
   ]
  },
  {
   "cell_type": "code",
   "execution_count": null,
   "metadata": {},
   "outputs": [],
   "source": [
    "# with open('data/graphs_coarseMesh_diameter_0.9_alts3.pkl', 'rb') as f:\n",
    "with open(\"data\\coarseMesh\\graphs_coarseMesh_diameter_0.9_alts7.pkl\", 'rb') as f:\n",
    "    data_list0 = pickle.load(f)\n",
    "\n",
    "print(data_list0[0])\n",
    "print(len(data_list0))"
   ]
  },
  {
   "cell_type": "code",
   "execution_count": null,
   "metadata": {},
   "outputs": [],
   "source": [
    "data_list_no_shear = [graph for graph in data_list0 if graph.F[0, 0, 1] == 0]\n",
    "print(len(data_list_no_shear))"
   ]
  },
  {
   "cell_type": "code",
   "execution_count": null,
   "metadata": {},
   "outputs": [],
   "source": [
    "F = np.concatenate([graph.F for graph in data_list_no_shear], axis=0)\n",
    "F.shape"
   ]
  },
  {
   "cell_type": "code",
   "execution_count": null,
   "metadata": {},
   "outputs": [],
   "source": [
    "%matplotlib qt\n",
    "\n",
    "n = 7\n",
    "fig, axes = plt.subplots(n, n, figsize=(10, 10))\n",
    "fig.patch.set_facecolor(\"None\")\n",
    "\n",
    "for i in range(n):\n",
    "    for j in range(n):\n",
    "        ax = axes[n-1-i,j]\n",
    "\n",
    "        # make plots pretty\n",
    "        ax.set_aspect('equal')\n",
    "        # plt.grid()\n",
    "        ax.axis('off')\n",
    "\n",
    "        ax.margins(0)\n",
    "\n",
    "        # find correct graph\n",
    "        interval = (1.5-0.75)/(n-1)\n",
    "        F_goal1 = np.array([[0.75+interval*j, 0], [0, 0.75+interval*i]])\n",
    "        F_goal2 = np.array([[0.75+interval*i, 0], [0, 0.75+interval*j]])\n",
    "        # print(F_goal1)\n",
    "        err1 = np.mean((F - F_goal1)**2, axis=(1,2))\n",
    "        ind1 = np.argmin(err1)\n",
    "        err2 = np.mean((F - F_goal2)**2, axis=(1,2))\n",
    "        ind2 = np.argmin(err2)\n",
    "\n",
    "        if err1[ind1] < err2[ind2]:\n",
    "            graph = data_list_no_shear[ind1]\n",
    "            pos = graph.y[..., 0]\n",
    "            if err1[ind1] > 0.0001:\n",
    "                print('large error:')\n",
    "                print(F_goal1)\n",
    "                print(graph.F)\n",
    "                print(err1[ind1])\n",
    "        else:\n",
    "            graph = data_list_no_shear[ind2]\n",
    "            pos = graph.y[..., [1, 0], 0]  # swap x and y\n",
    "\n",
    "            if err2[ind2] > 0.0001:\n",
    "                print('large error:')\n",
    "                print(F_goal2)\n",
    "                print(graph.F)\n",
    "                print(err2[ind2])\n",
    "\n",
    "        # plot nodes\n",
    "        # ax.scatter(*pos.T, label='new position', s=1, c='tab:blue')\n",
    "\n",
    "        # filter out wraparound edges\n",
    "        x, y = np.transpose(pos[graph.edge_index], axes=[2,0,1])\n",
    "        bools = ((np.abs(np.diff(x, axis=0)) < 0.5)\n",
    "                    & (np.abs(np.diff(y, axis=0)) < 0.5)\n",
    "                ).flatten()\n",
    "        # plot edges\n",
    "        if np.isclose(F_goal1, np.identity(2)).all():\n",
    "            edges0 = ax.plot(x[:, bools], y[:, bools], alpha=0.3, c='tab:blue')\n",
    "        else:\n",
    "            edges0 = ax.plot(x[:, bools], y[:, bools], alpha=0.3, c='black')\n",
    "\n",
    "xlims = [-1.6, 1.6]\n",
    "ylims = [-1.6, 1.6]\n",
    "\n",
    "for ax in axes.flatten():\n",
    "    xlims_temp = ax.get_xlim()\n",
    "    xlims[0] = min(xlims[0], xlims_temp[0])\n",
    "    xlims[1] = max(xlims[1], xlims_temp[1])\n",
    "    ylims_temp = ax.get_ylim()\n",
    "    ylims[0] = min(ylims[0], ylims_temp[0])\n",
    "    ylims[1] = max(ylims[1], ylims_temp[1])\n",
    "\n",
    "for ax in axes.flatten():\n",
    "    ax.set_xlim(xlims)\n",
    "    ax.set_ylim(ylims)\n",
    "\n",
    "plt.tight_layout()\n",
    "plt.subplots_adjust(wspace=0.05, hspace=0.05)"
   ]
  },
  {
   "cell_type": "code",
   "execution_count": null,
   "metadata": {},
   "outputs": [],
   "source": []
  }
 ],
 "metadata": {
  "kernelspec": {
   "display_name": "Python 3.10.6 ('env_ML2')",
   "language": "python",
   "name": "python3"
  },
  "language_info": {
   "codemirror_mode": {
    "name": "ipython",
    "version": 3
   },
   "file_extension": ".py",
   "mimetype": "text/x-python",
   "name": "python",
   "nbconvert_exporter": "python",
   "pygments_lexer": "ipython3",
   "version": "3.10.6"
  },
  "orig_nbformat": 4,
  "vscode": {
   "interpreter": {
    "hash": "17af4917c1f6b053a3c10937d0fabbfd2f76d8d1823238a27a1a051833d930bf"
   }
  }
 },
 "nbformat": 4,
 "nbformat_minor": 2
}
