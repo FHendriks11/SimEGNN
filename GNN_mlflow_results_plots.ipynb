{
 "cells": [
  {
   "cell_type": "markdown",
   "metadata": {},
   "source": [
    "# Import and compare results multiple GNNs\n"
   ]
  },
  {
   "cell_type": "code",
   "execution_count": null,
   "metadata": {},
   "outputs": [],
   "source": [
    "import mlflow\n",
    "import matplotlib.pyplot as plt"
   ]
  },
  {
   "cell_type": "markdown",
   "metadata": {},
   "source": [
    "## Compare nr of MP steps"
   ]
  },
  {
   "cell_type": "code",
   "execution_count": null,
   "metadata": {},
   "outputs": [],
   "source": [
    "# create list of ids (and other info) of runs to compare\n",
    "ids = []\n",
    "for run_info in mlflow.list_run_infos(experiment_id='5'):\n",
    "    run_id = run_info.run_id\n",
    "    run = mlflow.get_run(run_id=run_id)\n",
    "\n",
    "    try:\n",
    "        name = run.data.tags['mlflow.runName']\n",
    "\n",
    "        if (name.startswith('(')\n",
    "            or name.startswith('globalAttr')\n",
    "            or name == 'no_bifurcation_5_globalAttr'\n",
    "        ):\n",
    "            ids.append(run_id)\n",
    "            print(run_id, end='\\t')\n",
    "            print(name, end='\\t')\n",
    "            try:\n",
    "                print(run.data.tags['mlflow.note.content'], end='')\n",
    "            except KeyError:\n",
    "                pass\n",
    "            print('')\n",
    "    except KeyError:\n",
    "        pass\n",
    "client = mlflow.tracking.MlflowClient()\n",
    "\n",
    "data_gA = {}\n",
    "data_no_gA = {}\n",
    "for data in [data_gA, data_no_gA]:\n",
    "    for key in ['MSE_pos', 'MSE_W', 'reuse_layers', 'nMPsteps']:\n",
    "        data[key] = []\n",
    "\n",
    "for run_id in ids:\n",
    "    run = mlflow.get_run(run_id=run_id)\n",
    "\n",
    "    run_name = run.data.tags['mlflow.runName']\n",
    "    if 'globalAttr' in run_name:\n",
    "        data = data_gA\n",
    "    else:\n",
    "        data = data_no_gA\n",
    "\n",
    "    data['MSE_W'].append(run.data.metrics['val MSE W'])\n",
    "    data['MSE_pos'].append(run.data.metrics['val MSE pos'])\n",
    "    reuse_layers = run.data.params['reuse_layers']\n",
    "    nMPsteps = sum(eval(reuse_layers))\n",
    "    data['reuse_layers'].append(reuse_layers)\n",
    "    data['nMPsteps'].append(nMPsteps)\n",
    "\n",
    "# make sure matplotlib's latex can do \\mathfrak correctly\n",
    "plt.rcParams.update({\n",
    "    \"text.usetex\": True,\n",
    "    'text.latex.preamble': r'\\usepackage{amssymb} \\usepackage{{amsmath}}',\n",
    "})\n",
    "import numpy as np\n",
    "\n",
    "%matplotlib qt\n",
    "# plot MSE W\n",
    "plt.plot(data_gA['nMPsteps'], data_gA['MSE_W'], label='with global attribute')\n",
    "\n",
    "inds = np.argsort(data_no_gA['nMPsteps'])\n",
    "plt.plot([data_no_gA['nMPsteps'][ind] for ind in inds], [data_no_gA['MSE_W'][ind] for ind in inds], label='without global attribute')\n",
    "\n",
    "plt.grid()\n",
    "plt.xlabel('MP steps')\n",
    "plt.ylabel('MSE $\\mathfrak{W}$')\n",
    "plt.legend()\n",
    "plt.xticks(ticks=data_gA['nMPsteps'])\n",
    "plt.gca().set_xticklabels(data_gA['reuse_layers'])\n",
    "plt.gcf().autofmt_xdate()\n",
    "plt.subplots_adjust(bottom=0.2)\n",
    "%matplotlib qt\n",
    "# plot MSE pos\n",
    "plt.plot(data_gA['nMPsteps'], data_gA['MSE_pos'], label='with global attribute')\n",
    "plt.plot([data_no_gA['nMPsteps'][ind] for ind in inds], [data_no_gA['MSE_pos'][ind] for ind in inds], label='without global attribute')\n",
    "plt.grid()\n",
    "plt.xlabel('MP steps')\n",
    "plt.ylabel('MSE position')\n",
    "plt.legend()\n",
    "plt.xticks(ticks=data_gA['nMPsteps'])\n",
    "plt.gca().set_xticklabels(data_gA['reuse_layers'])\n",
    "plt.gcf().autofmt_xdate()\n",
    "plt.subplots_adjust(bottom=0.2)"
   ]
  },
  {
   "cell_type": "code",
   "execution_count": null,
   "metadata": {},
   "outputs": [],
   "source": []
  },
  {
   "cell_type": "markdown",
   "metadata": {},
   "source": [
    "# Import and compare results multiple GNNs"
   ]
  },
  {
   "cell_type": "code",
   "execution_count": null,
   "metadata": {},
   "outputs": [],
   "source": [
    "import mlflow\n",
    "import matplotlib.pyplot as plt\n",
    "import matplotlib"
   ]
  },
  {
   "cell_type": "code",
   "execution_count": null,
   "metadata": {},
   "outputs": [],
   "source": [
    "# list runs\n",
    "for run in mlflow.list_run_infos(experiment_id='5'):\n",
    "    print(run.run_id, end='\\t')\n",
    "    run = mlflow.get_run(run_id=run.run_id)\n",
    "    print(run.data.params['layers'][:15], end='\\t')\n",
    "    print(run.data.params['reuse_layers'], end='\\t')\n",
    "    try:\n",
    "        print(run.data.tags['mlflow.runName'], end='\\t')\n",
    "    except KeyError:\n",
    "        pass\n",
    "    try:\n",
    "        print(run.data.tags['mlflow.note.content'], end='')\n",
    "    except KeyError:\n",
    "        pass\n",
    "    print('')"
   ]
  },
  {
   "cell_type": "markdown",
   "metadata": {},
   "source": [
    "## Compare batch sizes"
   ]
  },
  {
   "cell_type": "code",
   "execution_count": null,
   "metadata": {},
   "outputs": [],
   "source": [
    "# ids = ['c82a464bd54a4933ab85f6a71bdba2cd', 'e033798fb36c4bc59b149255ce43a7fe', '70b3d708f9534d1288112614331c0a3e', 'fec4d3292a524fd095488697b5f3f5ef', 'fe639eeb96d84839ac056b129148e547',\t'308029a8ef724573b79bc8b5ba3be5a9', '969223051e974a168efa12b64cc38738']\n",
    "\n",
    "ids = ['cd8e6f5c223f4178a27f316c59cd66b7', '5fe30eae970d402097abf91ac8eff04d', 'de28ea97dc754df9ba75f313c17a6385']"
   ]
  },
  {
   "cell_type": "code",
   "execution_count": null,
   "metadata": {},
   "outputs": [],
   "source": [
    "client = mlflow.tracking.MlflowClient()\n",
    "\n",
    "mse_val1 = []\n",
    "mse_val2 = []\n",
    "bs_arr = []\n",
    "for run_id in ids:\n",
    "    run = mlflow.get_run(run_id=run_id)\n",
    "    print(run.data.tags['mlflow.runName'])\n",
    "    # print(run.data)\n",
    "    hist = client.get_metric_history(run_id, 'val MSE pos')\n",
    "    mse_val1.append([elem.value for elem in hist])\n",
    "    hist = client.get_metric_history(run_id, 'val MSE W_scaled')\n",
    "    scale_factor = run.data.params['scaling_factor_W']\n",
    "    mse_val2.append([elem.value*scale_factor**2 for elem in hist])\n",
    "\n",
    "    # mse_val1.append(run.data.metrics['val MSE pos'])\n",
    "    # mse_val2.append(run.data.metrics['val MSE W_scaled'])\n",
    "\n",
    "    bs = eval(run.data.params['lr_schedule'])[0][2]\n",
    "    bs_arr.append(bs)\n",
    "\n",
    "print(mse_val1)\n",
    "print(mse_val2)\n",
    "print(bs_arr)"
   ]
  },
  {
   "cell_type": "code",
   "execution_count": null,
   "metadata": {},
   "outputs": [],
   "source": [
    "%matplotlib qt\n",
    "colors = plt.cm.tab20(np.arange(20))\n",
    "plt.gca().set_prop_cycle('color', colors)\n",
    "for mse1, mse2, bs in zip(mse_val1, mse_val2, bs_arr): #, ['tab:blue', 'tab:orange', 'tab:green']):\n",
    "    x = np.linspace(0, 100, len(mse1))\n",
    "    plt.plot(x, mse1, label=f'batch size {bs}, MSE position')\n",
    "    plt.plot(x, mse2, label=f'batch size {bs}' + ' MSE $\\mathfrak{W}$') #, linestyle='--')\n",
    "# plt.plot(mp_steps, mse_val, label='validation', marker='o')\n",
    "plt.grid()\n",
    "plt.yscale('log')\n",
    "plt.xlabel('training progress')\n",
    "plt.ylabel('MSE')\n",
    "plt.legend()\n",
    "plt.gca().xaxis.set_major_formatter(matplotlib.ticker.PercentFormatter())\n",
    "# plt.gca().xaxis.set_major_locator(matplotlib.ticker.MaxNLocator(integer=True))"
   ]
  },
  {
   "cell_type": "markdown",
   "metadata": {},
   "source": [
    "## Compare nr of MP steps"
   ]
  },
  {
   "cell_type": "code",
   "execution_count": null,
   "metadata": {},
   "outputs": [],
   "source": [
    "# create list of ids (and other info) of runs to compare\n",
    "ids = []\n",
    "for run_info in mlflow.list_run_infos(experiment_id='5'):\n",
    "    run_id = run_info.run_id\n",
    "    run = mlflow.get_run(run_id=run_id)\n",
    "\n",
    "    try:\n",
    "        name = run.data.tags['mlflow.runName']\n",
    "\n",
    "        if (name.startswith('(')\n",
    "            or name.startswith('globalAttr')\n",
    "            or name == 'no_bifurcation_5_globalAttr'\n",
    "        ):\n",
    "            ids.append(run_id)\n",
    "            print(run_id, end='\\t')\n",
    "            print(name, end='\\t')\n",
    "            try:\n",
    "                print(run.data.tags['mlflow.note.content'], end='')\n",
    "            except KeyError:\n",
    "                pass\n",
    "            print('')\n",
    "    except KeyError:\n",
    "        pass"
   ]
  },
  {
   "cell_type": "code",
   "execution_count": null,
   "metadata": {},
   "outputs": [],
   "source": [
    "client = mlflow.tracking.MlflowClient()\n",
    "\n",
    "data_gA = {}\n",
    "data_no_gA = {}\n",
    "for data in [data_gA, data_no_gA]:\n",
    "    for key in ['MSE_pos', 'MSE_W', 'reuse_layers', 'nMPsteps']:\n",
    "        data[key] = []\n",
    "\n",
    "for run_id in ids:\n",
    "    run = mlflow.get_run(run_id=run_id)\n",
    "\n",
    "    run_name = run.data.tags['mlflow.runName']\n",
    "    if 'globalAttr' in run_name:\n",
    "        data = data_gA\n",
    "    else:\n",
    "        data = data_no_gA\n",
    "\n",
    "    data['MSE_W'].append(run.data.metrics['val MSE W'])\n",
    "    data['MSE_pos'].append(run.data.metrics['val MSE pos'])\n",
    "    reuse_layers = run.data.params['reuse_layers']\n",
    "    nMPsteps = sum(eval(reuse_layers))\n",
    "    data['reuse_layers'].append(reuse_layers)\n",
    "    data['nMPsteps'].append(nMPsteps)\n"
   ]
  },
  {
   "cell_type": "code",
   "execution_count": null,
   "metadata": {},
   "outputs": [],
   "source": [
    "# make sure matplotlib's latex can do \\mathfrak correctly\n",
    "plt.rcParams.update({\n",
    "    \"text.usetex\": True,\n",
    "    'text.latex.preamble': r'\\usepackage{amssymb} \\usepackage{{amsmath}}',\n",
    "})"
   ]
  },
  {
   "cell_type": "code",
   "execution_count": null,
   "metadata": {},
   "outputs": [],
   "source": [
    "import numpy as np"
   ]
  },
  {
   "cell_type": "code",
   "execution_count": null,
   "metadata": {},
   "outputs": [],
   "source": []
  },
  {
   "cell_type": "code",
   "execution_count": null,
   "metadata": {},
   "outputs": [],
   "source": [
    "%matplotlib qt\n",
    "# plot MSE W\n",
    "plt.plot(data_gA['nMPsteps'], data_gA['MSE_W'], label='with global attribute')\n",
    "\n",
    "inds = np.argsort(data_no_gA['nMPsteps'])\n",
    "plt.plot([data_no_gA['nMPsteps'][ind] for ind in inds], [data_no_gA['MSE_W'][ind] for ind in inds], label='without global attribute')\n",
    "\n",
    "plt.grid()\n",
    "plt.xlabel('MP steps')\n",
    "plt.ylabel('MSE $\\mathfrak{W}$')\n",
    "plt.legend()\n",
    "plt.xticks(ticks=data_gA['nMPsteps'])\n",
    "plt.gca().set_xticklabels(data_gA['reuse_layers'])\n",
    "plt.gcf().autofmt_xdate()\n",
    "plt.subplots_adjust(bottom=0.2)"
   ]
  },
  {
   "cell_type": "code",
   "execution_count": null,
   "metadata": {},
   "outputs": [],
   "source": [
    "%matplotlib qt\n",
    "# plot MSE pos\n",
    "plt.plot(data_gA['nMPsteps'], data_gA['MSE_pos'], label='with global attribute')\n",
    "plt.plot([data_no_gA['nMPsteps'][ind] for ind in inds], [data_no_gA['MSE_pos'][ind] for ind in inds], label='without global attribute')\n",
    "plt.grid()\n",
    "plt.xlabel('MP steps')\n",
    "plt.ylabel('MSE position')\n",
    "plt.legend()\n",
    "plt.xticks(ticks=data_gA['nMPsteps'])\n",
    "plt.gca().set_xticklabels(data_gA['reuse_layers'])\n",
    "plt.gcf().autofmt_xdate()\n",
    "plt.subplots_adjust(bottom=0.2)"
   ]
  },
  {
   "cell_type": "markdown",
   "metadata": {},
   "source": [
    "# Loss plot"
   ]
  },
  {
   "cell_type": "code",
   "execution_count": null,
   "metadata": {},
   "outputs": [],
   "source": [
    "import mlflow\n",
    "import numpy as np"
   ]
  },
  {
   "cell_type": "code",
   "execution_count": null,
   "metadata": {},
   "outputs": [],
   "source": [
    "\n",
    "run_ids = ['9453aa73b9ee4b42ac9560ff37693d6f',\n",
    "           'f25933db5e5545388265e2e9261edca3',\n",
    "           '64e45fceb1eb46b6a977851c7123bca8',\n",
    "           '0f54a8a568094a3085cc387fe21c3d38',\n",
    "           'bdca87c393db4da3b387a805426d25d2',\n",
    "           'a49f45e0cc3743ab914283c4ea0e6d60',\n",
    "           'f09812771fec478eb1195216f3ae018d',\n",
    "           ]\n",
    "model_names = ['GNN',\n",
    "         'GNN, DA ×1',\n",
    "         'GNN, DA ×2',\n",
    "         'EGNN',\n",
    "         'EGNN, DA ×1',\n",
    "         'EGNN, DA ×2',\n",
    "         'SimEGNN',\n",
    "        #  'EGNNmod2_bigger'\n",
    "        ]"
   ]
  },
  {
   "cell_type": "code",
   "execution_count": null,
   "metadata": {},
   "outputs": [],
   "source": [
    "client = mlflow.tracking.MlflowClient()\n",
    "\n",
    "data = {}\n",
    "\n",
    "for run_id, model_name in zip(run_ids, model_names):\n",
    "    data[model_name] = {}\n",
    "    run = mlflow.get_run(run_id=run_id)\n",
    "    run_name = run.data.tags['mlflow.runName']\n",
    "    print('run_name:', run_name)\n",
    "    print('model_name:', model_name)\n",
    "    weight_losses = run.data.params['weight_losses']\n",
    "    weight_losses = [float(elem) for elem in weight_losses[1:-1].split()]\n",
    "\n",
    "    for i, var in enumerate(['pos', 'W', 'P', 'D']):\n",
    "        hist = client.get_metric_history(run_id, 'val MSE '+ var + '_scaled')\n",
    "        hist = np.array([elem.value for elem in hist])\n",
    "        data[model_name][var] = hist\n",
    "\n",
    "        print('hist:', hist)\n",
    "        print('type(hist):', type(hist))\n",
    "\n",
    "        if 'total loss' not in data[model_name]:\n",
    "            data[model_name]['total loss'] = hist  #*weight_losses[i]\n",
    "        else:\n",
    "            data[model_name]['total loss'] += hist  #*weight_losses[i]\n",
    "\n",
    "data"
   ]
  },
  {
   "cell_type": "code",
   "execution_count": null,
   "metadata": {},
   "outputs": [],
   "source": [
    "for i, var in enumerate(['pos', 'W', 'P', 'D']):\n",
    "    plt.hist(data['SimEGNN'][var]  #*weight_losses[i]\n",
    "             , bins=np.linspace(0, 0.05, 100), label=var, density=True, histtype='step')\n",
    "plt.legend()\n",
    "plt.yscale('log')"
   ]
  },
  {
   "cell_type": "code",
   "execution_count": null,
   "metadata": {},
   "outputs": [],
   "source": [
    "epochs = np.arange(-1, len(data['GNN']['total loss'])-1)"
   ]
  },
  {
   "cell_type": "code",
   "execution_count": null,
   "metadata": {},
   "outputs": [],
   "source": [
    "# make sure matplotlib's latex can do \\mathfrak correctly\n",
    "plt.rcParams.update({\n",
    "    \"text.usetex\": True,\n",
    "    'text.latex.preamble': r'\\usepackage{amssymb} \\usepackage{{amsmath}}',\n",
    "    'font.size' : 24\n",
    "})"
   ]
  },
  {
   "cell_type": "code",
   "execution_count": null,
   "metadata": {},
   "outputs": [],
   "source": [
    "%matplotlib qt\n",
    "\n",
    "plt.figure(figsize=(13,8))\n",
    "# plot MSE W\n",
    "models = ['GNN',\n",
    "          'GNN, DA ×1', 'GNN, DA ×2',\n",
    "         'EGNN',\n",
    "         'EGNN, DA ×1', 'EGNN, DA ×2',\n",
    "          'SimEGNN']\n",
    "\n",
    "colors = [plt.get_cmap('tab20c').colors[0],\n",
    "          plt.get_cmap('tab20c').colors[1],\n",
    "          plt.get_cmap('tab20c').colors[3],\n",
    "          plt.get_cmap('tab20c').colors[4],\n",
    "          plt.get_cmap('tab20c').colors[5],\n",
    "          plt.get_cmap('tab20c').colors[7],\n",
    "          'tab:green']\n",
    "# linestyles = ['solid',\n",
    "#               'dashed', 'dotted',\n",
    "#               'solid',\n",
    "#               'dashed', 'dotted',\n",
    "#               'solid']\n",
    "\n",
    "for model_name, c in zip(model_names, colors):\n",
    "    plt.plot(epochs[1:], data[model_name]['total loss'][1:], label=model_name, c=c)\n",
    "\n",
    "plt.grid()\n",
    "plt.xlabel('epoch')\n",
    "plt.ylabel('validation loss')\n",
    "plt.yscale('log')\n",
    "plt.legend()\n",
    "# plt.xticks(ticks=data_gA['nMPsteps'])\n",
    "# plt.gca().set_xticklabels(data_gA['reuse_layers'])\n",
    "# plt.gcf().autofmt_xdate()\n",
    "# plt.subplots_adjust(bottom=0.2)\n",
    "\n",
    "\n",
    "plt.gcf().savefig('results/final_results/loss_plot.png', ddpi=600, bbox_inches='tight')"
   ]
  },
  {
   "cell_type": "code",
   "execution_count": null,
   "metadata": {},
   "outputs": [],
   "source": []
  }
 ],
 "metadata": {
  "kernelspec": {
   "display_name": "env_ML2",
   "language": "python",
   "name": "python3"
  },
  "language_info": {
   "codemirror_mode": {
    "name": "ipython",
    "version": 3
   },
   "file_extension": ".py",
   "mimetype": "text/x-python",
   "name": "python",
   "nbconvert_exporter": "python",
   "pygments_lexer": "ipython3",
   "version": "3.10.6"
  },
  "orig_nbformat": 4
 },
 "nbformat": 4,
 "nbformat_minor": 2
}
